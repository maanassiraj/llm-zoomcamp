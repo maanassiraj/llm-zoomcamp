{
 "cells": [
  {
   "cell_type": "code",
   "execution_count": 14,
   "id": "f686995f-f316-4a48-b305-db2858cc586b",
   "metadata": {},
   "outputs": [],
   "source": [
    "from dotenv import load_dotenv\n",
    "import os\n",
    "from groq import Groq"
   ]
  },
  {
   "cell_type": "code",
   "execution_count": 10,
   "id": "031256f1-2dd7-4488-a234-3be16dc18503",
   "metadata": {},
   "outputs": [
    {
     "data": {
      "text/plain": [
       "True"
      ]
     },
     "execution_count": 10,
     "metadata": {},
     "output_type": "execute_result"
    }
   ],
   "source": [
    "load_dotenv()"
   ]
  },
  {
   "cell_type": "code",
   "execution_count": 15,
   "id": "10ad45da-b017-4e64-8d07-91a73239b8a3",
   "metadata": {},
   "outputs": [],
   "source": [
    "client = Groq(api_key=os.getenv(\"GROQ_API_KEY\"))"
   ]
  },
  {
   "cell_type": "code",
   "execution_count": 16,
   "id": "eced7cf7-23e6-4128-b39c-7237254808d2",
   "metadata": {},
   "outputs": [],
   "source": [
    "chat_completions = client.chat.completions.create(\n",
    "    model=\"openai/gpt-oss-20b\",\n",
    "    messages=[\n",
    "        {\n",
    "            \"role\": \"user\",\n",
    "            \"content\": \"is it too late to join the course?\"\n",
    "        }\n",
    "    ]\n",
    ")"
   ]
  },
  {
   "cell_type": "code",
   "execution_count": 26,
   "id": "c2fbd0d2-d6f8-4222-87f0-42990e1261c4",
   "metadata": {},
   "outputs": [
    {
     "data": {
      "text/plain": [
       "'I’m not sure which course you’re referring to, but most programs have a deadline for enrollment. Sometimes there’s a wait‑list or a possibility to join late if a spot opens up. Could you let me know the course title or the institution, so I can check the exact dates and any late‑enrollment options?'"
      ]
     },
     "execution_count": 26,
     "metadata": {},
     "output_type": "execute_result"
    }
   ],
   "source": [
    "chat_completions.choices[0].message.content"
   ]
  },
  {
   "cell_type": "code",
   "execution_count": null,
   "id": "5ed11256-857b-48f7-85aa-cb6ffe992d6b",
   "metadata": {},
   "outputs": [],
   "source": []
  }
 ],
 "metadata": {
  "kernelspec": {
   "display_name": "Python 3 (ipykernel)",
   "language": "python",
   "name": "python3"
  },
  "language_info": {
   "codemirror_mode": {
    "name": "ipython",
    "version": 3
   },
   "file_extension": ".py",
   "mimetype": "text/x-python",
   "name": "python",
   "nbconvert_exporter": "python",
   "pygments_lexer": "ipython3",
   "version": "3.12.1"
  }
 },
 "nbformat": 4,
 "nbformat_minor": 5
}
